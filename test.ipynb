{
 "cells": [
  {
   "cell_type": "code",
   "execution_count": 1,
   "metadata": {},
   "outputs": [
    {
     "name": "stdout",
     "output_type": "stream",
     "text": [
      "Note: you may need to restart the kernel to use updated packages.\n"
     ]
    }
   ],
   "source": [
    "%matplotlib inline\n",
    "%pip install -q mediapy\n",
    "import mediapy as media\n",
    "media.set_ffmpeg('/opt/bwhpc/common/vis/ffmpeg/5.1.3/bin/ffmpeg')"
   ]
  },
  {
   "cell_type": "code",
   "execution_count": 2,
   "metadata": {},
   "outputs": [
    {
     "name": "stderr",
     "output_type": "stream",
     "text": [
      "/home/kit/stud/uqtlv/.conda/envs/airhockey2/lib/python3.8/site-packages/torch/utils/tensorboard/__init__.py:4: DeprecationWarning: distutils Version classes are deprecated. Use packaging.version instead.\n",
      "  if not hasattr(tensorboard, \"__version__\") or LooseVersion(\n"
     ]
    }
   ],
   "source": [
    "import pathlib\n",
    "import numpy as np\n",
    "import torch\n",
    "\n",
    "import yaml\n",
    "from stable_baselines3 import PPO\n",
    "from sb3_contrib import RecurrentPPO\n",
    "\n",
    "from ppo_airhockey_benchmark.constants import best_model_file_name, vecnormalize_file_name\n",
    "from ppo_airhockey_benchmark.util import make_environments"
   ]
  },
  {
   "cell_type": "code",
   "execution_count": 3,
   "metadata": {},
   "outputs": [],
   "source": [
    "def prepare(local_testing):\n",
    "    global q\n",
    "    q = 0\n",
    "    env = local_testing[\"env\"]\n",
    "    env_args = local_testing[\"env_args\"]\n",
    "    path = pathlib.Path('./' + local_testing[\"path\"])\n",
    "    eval_env = make_environments(env, 0, env_args, only_eval=True, load=True, load_dir=path / vecnormalize_file_name)\n",
    "    model_load_dir = path / best_model_file_name\n",
    "    if local_testing[\"model_type\"] == 'recurrent':\n",
    "        model = RecurrentPPO.load(model_load_dir)\n",
    "    else:\n",
    "        model = PPO.load(model_load_dir)\n",
    "    \n",
    "    return eval_env, model\n",
    "\n",
    "def eval(eval_env, model, local_testing):\n",
    "    global q\n",
    "    obs = eval_env.reset()\n",
    "    cum_reward = 0\n",
    "    images = []\n",
    "    if local_testing[\"model_type\"] == 'recurrent':\n",
    "        lstm_states = None\n",
    "        num_envs = 1\n",
    "        episode_starts = np.ones((num_envs,), dtype=bool)\n",
    "        with torch.no_grad():\n",
    "            while True:\n",
    "                if local_testing[\"model_type\"] == 'recurrent':\n",
    "                    action, lstm_states = model.predict(obs, state=lstm_states, episode_start=episode_starts, deterministic=True)\n",
    "                else:\n",
    "                    action, state = model.predict(obs, deterministic=True)\n",
    "                obs, reward, done, info = eval_env.step(action)\n",
    "                cum_reward += reward\n",
    "                images.append(eval_env.render(mode='rgb_array'))\n",
    "                if done:\n",
    "                    print(\"Run {}\".format(q))\n",
    "                    print(\"Reward until last:{}\".format(cum_reward - reward))\n",
    "                    print(\"Full reward:{}\".format(cum_reward))\n",
    "                    q+=1\n",
    "                    return images\n",
    "        \n",
    "def show_eval(*args, **kwargs):\n",
    "    frames = eval(*args, **kwargs)\n",
    "    media.show_video(frames, fps=50, width=500)\n",
    "    return frames"
   ]
  },
  {
   "cell_type": "code",
   "execution_count": 4,
   "metadata": {},
   "outputs": [],
   "source": [
    "def run_n(local_testing, n=50):\n",
    "    display(local_testing)\n",
    "    eval_env, model = prepare(local_testing)\n",
    "    for i in range(n):\n",
    "        show_eval(eval_env, model, local_testing)"
   ]
  },
  {
   "cell_type": "code",
   "execution_count": null,
   "metadata": {},
   "outputs": [],
   "source": [
    "local_testing = {\n",
    "    'model_type': 'recurrent',\n",
    "    'path': 'logs/RnnPPO/7dof_defend/test-recurrent-3',\n",
    "    'env': '7dof-defend',\n",
    "    'env_args': {'noise': True, 'horizon': 300, 'last_joint': True}\n",
    "}\n",
    "\n",
    "run_n(local_testing, n=15)"
   ]
  },
  {
   "cell_type": "code",
   "execution_count": 5,
   "metadata": {},
   "outputs": [
    {
     "data": {
      "text/plain": [
       "{'model_type': 'normal',\n",
       " 'path': 'logs/RnnPPO/7dof_defend/test-ppo-3',\n",
       " 'env': '7dof-defend',\n",
       " 'env_args': {'noise': True, 'horizon': 300, 'last_joint': True}}"
      ]
     },
     "metadata": {},
     "output_type": "display_data"
    },
    {
     "ename": "TypeError",
     "evalue": "'NoneType' object is not iterable",
     "output_type": "error",
     "traceback": [
      "\u001b[0;31m---------------------------------------------------------------------------\u001b[0m",
      "\u001b[0;31mTypeError\u001b[0m                                 Traceback (most recent call last)",
      "Cell \u001b[0;32mIn[5], line 8\u001b[0m\n\u001b[1;32m      1\u001b[0m local_testing \u001b[39m=\u001b[39m {\n\u001b[1;32m      2\u001b[0m     \u001b[39m'\u001b[39m\u001b[39mmodel_type\u001b[39m\u001b[39m'\u001b[39m: \u001b[39m'\u001b[39m\u001b[39mnormal\u001b[39m\u001b[39m'\u001b[39m,\n\u001b[1;32m      3\u001b[0m     \u001b[39m'\u001b[39m\u001b[39mpath\u001b[39m\u001b[39m'\u001b[39m: \u001b[39m'\u001b[39m\u001b[39mlogs/RnnPPO/7dof_defend/test-ppo-3\u001b[39m\u001b[39m'\u001b[39m,\n\u001b[1;32m      4\u001b[0m     \u001b[39m'\u001b[39m\u001b[39menv\u001b[39m\u001b[39m'\u001b[39m: \u001b[39m'\u001b[39m\u001b[39m7dof-defend\u001b[39m\u001b[39m'\u001b[39m,\n\u001b[1;32m      5\u001b[0m     \u001b[39m'\u001b[39m\u001b[39menv_args\u001b[39m\u001b[39m'\u001b[39m: {\u001b[39m'\u001b[39m\u001b[39mnoise\u001b[39m\u001b[39m'\u001b[39m: \u001b[39mTrue\u001b[39;00m, \u001b[39m'\u001b[39m\u001b[39mhorizon\u001b[39m\u001b[39m'\u001b[39m: \u001b[39m300\u001b[39m, \u001b[39m'\u001b[39m\u001b[39mlast_joint\u001b[39m\u001b[39m'\u001b[39m: \u001b[39mTrue\u001b[39;00m}\n\u001b[1;32m      6\u001b[0m }\n\u001b[0;32m----> 8\u001b[0m run_n(local_testing, n\u001b[39m=\u001b[39;49m\u001b[39m15\u001b[39;49m)\n",
      "Cell \u001b[0;32mIn[4], line 5\u001b[0m, in \u001b[0;36mrun_n\u001b[0;34m(local_testing, n)\u001b[0m\n\u001b[1;32m      3\u001b[0m eval_env, model \u001b[39m=\u001b[39m prepare(local_testing)\n\u001b[1;32m      4\u001b[0m \u001b[39mfor\u001b[39;00m i \u001b[39min\u001b[39;00m \u001b[39mrange\u001b[39m(n):\n\u001b[0;32m----> 5\u001b[0m     show_eval(eval_env, model, local_testing)\n",
      "Cell \u001b[0;32mIn[3], line 43\u001b[0m, in \u001b[0;36mshow_eval\u001b[0;34m(*args, **kwargs)\u001b[0m\n\u001b[1;32m     41\u001b[0m \u001b[39mdef\u001b[39;00m \u001b[39mshow_eval\u001b[39m(\u001b[39m*\u001b[39margs, \u001b[39m*\u001b[39m\u001b[39m*\u001b[39mkwargs):\n\u001b[1;32m     42\u001b[0m     frames \u001b[39m=\u001b[39m \u001b[39meval\u001b[39m(\u001b[39m*\u001b[39margs, \u001b[39m*\u001b[39m\u001b[39m*\u001b[39mkwargs)\n\u001b[0;32m---> 43\u001b[0m     media\u001b[39m.\u001b[39;49mshow_video(frames, fps\u001b[39m=\u001b[39;49m\u001b[39m50\u001b[39;49m, width\u001b[39m=\u001b[39;49m\u001b[39m500\u001b[39;49m)\n\u001b[1;32m     44\u001b[0m     \u001b[39mreturn\u001b[39;00m frames\n",
      "File \u001b[0;32m~/.conda/envs/airhockey2/lib/python3.8/site-packages/mediapy/__init__.py:1772\u001b[0m, in \u001b[0;36mshow_video\u001b[0;34m(images, title, **kwargs)\u001b[0m\n\u001b[1;32m   1749\u001b[0m \u001b[39mdef\u001b[39;00m \u001b[39mshow_video\u001b[39m(\n\u001b[1;32m   1750\u001b[0m     images: Iterable[_NDArray], \u001b[39m*\u001b[39m, title: \u001b[39mstr\u001b[39m \u001b[39m|\u001b[39m \u001b[39mNone\u001b[39;00m \u001b[39m=\u001b[39m \u001b[39mNone\u001b[39;00m, \u001b[39m*\u001b[39m\u001b[39m*\u001b[39mkwargs: Any\n\u001b[1;32m   1751\u001b[0m ) \u001b[39m-\u001b[39m\u001b[39m>\u001b[39m \u001b[39mstr\u001b[39m \u001b[39m|\u001b[39m \u001b[39mNone\u001b[39;00m:\n\u001b[1;32m   1752\u001b[0m \u001b[39m  \u001b[39m\u001b[39m\"\"\"Displays a video in the IPython notebook and optionally saves it to a file.\u001b[39;00m\n\u001b[1;32m   1753\u001b[0m \n\u001b[1;32m   1754\u001b[0m \u001b[39m  See `show_videos`.\u001b[39;00m\n\u001b[0;32m   (...)\u001b[0m\n\u001b[1;32m   1770\u001b[0m \u001b[39m    html string if `return_html` is `True`.\u001b[39;00m\n\u001b[1;32m   1771\u001b[0m \u001b[39m  \"\"\"\u001b[39;00m\n\u001b[0;32m-> 1772\u001b[0m   \u001b[39mreturn\u001b[39;00m show_videos([images], [title], \u001b[39m*\u001b[39;49m\u001b[39m*\u001b[39;49mkwargs)\n",
      "File \u001b[0;32m~/.conda/envs/airhockey2/lib/python3.8/site-packages/mediapy/__init__.py:1848\u001b[0m, in \u001b[0;36mshow_videos\u001b[0;34m(videos, titles, width, height, downsample, columns, fps, bps, qp, codec, ylabel, html_class, return_html, **kwargs)\u001b[0m\n\u001b[1;32m   1846\u001b[0m \u001b[39mfor\u001b[39;00m video, title \u001b[39min\u001b[39;00m \u001b[39mzip\u001b[39m(list_videos, list_titles):\n\u001b[1;32m   1847\u001b[0m   metadata: VideoMetadata \u001b[39m|\u001b[39m \u001b[39mNone\u001b[39;00m \u001b[39m=\u001b[39m \u001b[39mgetattr\u001b[39m(video, \u001b[39m'\u001b[39m\u001b[39mmetadata\u001b[39m\u001b[39m'\u001b[39m, \u001b[39mNone\u001b[39;00m)\n\u001b[0;32m-> 1848\u001b[0m   first_image, video \u001b[39m=\u001b[39m _peek_first(video)\n\u001b[1;32m   1849\u001b[0m   w, h \u001b[39m=\u001b[39m _get_width_height(\n\u001b[1;32m   1850\u001b[0m       width, height, first_image\u001b[39m.\u001b[39mshape[:\u001b[39m2\u001b[39m]  \u001b[39m# type: ignore[arg-type]\u001b[39;00m\n\u001b[1;32m   1851\u001b[0m   )\n\u001b[1;32m   1852\u001b[0m   \u001b[39mif\u001b[39;00m downsample \u001b[39mand\u001b[39;00m (w \u001b[39m<\u001b[39m first_image\u001b[39m.\u001b[39mshape[\u001b[39m1\u001b[39m] \u001b[39mor\u001b[39;00m h \u001b[39m<\u001b[39m first_image\u001b[39m.\u001b[39mshape[\u001b[39m0\u001b[39m]):  \u001b[39m# pytype: disable=attribute-error\u001b[39;00m\n\u001b[1;32m   1853\u001b[0m     \u001b[39m# Not resize_video() because each image may have different depth and type.\u001b[39;00m\n",
      "File \u001b[0;32m~/.conda/envs/airhockey2/lib/python3.8/site-packages/mediapy/__init__.py:246\u001b[0m, in \u001b[0;36m_peek_first\u001b[0;34m(iterator)\u001b[0m\n\u001b[1;32m    233\u001b[0m \u001b[39m\u001b[39m\u001b[39m\"\"\"Given an iterator, returns first element and re-initialized iterator.\u001b[39;00m\n\u001b[1;32m    234\u001b[0m \n\u001b[1;32m    235\u001b[0m \u001b[39m>>> first_image, images = _peek_first(moving_circle())\u001b[39;00m\n\u001b[0;32m   (...)\u001b[0m\n\u001b[1;32m    243\u001b[0m \u001b[39m    iterator_reinitialized: A clone of the original iterator/iterable.\u001b[39;00m\n\u001b[1;32m    244\u001b[0m \u001b[39m\"\"\"\u001b[39;00m\n\u001b[1;32m    245\u001b[0m \u001b[39m# Inspired from https://stackoverflow.com/a/12059829/1190077\u001b[39;00m\n\u001b[0;32m--> 246\u001b[0m peeker, iterator_reinitialized \u001b[39m=\u001b[39m itertools\u001b[39m.\u001b[39;49mtee(iterator)\n\u001b[1;32m    247\u001b[0m first \u001b[39m=\u001b[39m \u001b[39mnext\u001b[39m(peeker)\n\u001b[1;32m    248\u001b[0m \u001b[39mreturn\u001b[39;00m first, iterator_reinitialized\n",
      "\u001b[0;31mTypeError\u001b[0m: 'NoneType' object is not iterable"
     ]
    }
   ],
   "source": [
    "local_testing = {\n",
    "    'model_type': 'normal',\n",
    "    'path': 'logs/RnnPPO/7dof_defend/test-ppo-3',\n",
    "    'env': '7dof-defend',\n",
    "    'env_args': {'noise': True, 'horizon': 300, 'last_joint': True}\n",
    "}\n",
    "\n",
    "run_n(local_testing, n=15)"
   ]
  }
 ],
 "metadata": {
  "kernelspec": {
   "display_name": "airhockey2",
   "language": "python",
   "name": "python3"
  },
  "language_info": {
   "codemirror_mode": {
    "name": "ipython",
    "version": 3
   },
   "file_extension": ".py",
   "mimetype": "text/x-python",
   "name": "python",
   "nbconvert_exporter": "python",
   "pygments_lexer": "ipython3",
   "version": "3.8.16"
  },
  "orig_nbformat": 4,
  "vscode": {
   "interpreter": {
    "hash": "8f668955c439efdc00e64260900b6a7873d0c0f9870cf6b90f7e5609e0801a45"
   }
  }
 },
 "nbformat": 4,
 "nbformat_minor": 2
}
